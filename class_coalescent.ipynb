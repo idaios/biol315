{
 "cells": [
  {
   "cell_type": "code",
   "execution_count": 37,
   "id": "e5c8340b",
   "metadata": {},
   "outputs": [
    {
     "data": {
      "image/svg+xml": [
       "<svg xmlns=\"http://www.w3.org/2000/svg\" xmlns:ev=\"http://www.w3.org/2001/xml-events\" xmlns:xlink=\"http://www.w3.org/1999/xlink\" baseProfile=\"full\" height=\"200\" version=\"1.1\" width=\"200\"><defs><style type=\"text/css\"><![CDATA[.background path {fill: #808080; fill-opacity: 0}.background path:nth-child(odd) {fill-opacity: .1}.axes {font-size: 14px}.x-axis .tick .lab {font-weight: bold; dominant-baseline: hanging}.axes, .tree {font-size: 14px; text-anchor: middle}.axes line, .edge {stroke: black; fill: none}.y-axis .grid {stroke: #FAFAFA}.node > .sym {fill: black; stroke: none}.site > .sym {stroke: black}.mut text {fill: red; font-style: italic}.mut.extra text {fill: hotpink}.mut line {fill: none; stroke: none}.mut .sym {fill: none; stroke: red}.mut.extra .sym {stroke: hotpink}.node .mut .sym {stroke-width: 1.5px}.tree text, .tree-sequence text {dominant-baseline: central}.plotbox .lab.lft {text-anchor: end}.plotbox .lab.rgt {text-anchor: start}]]></style></defs><g class=\"tree-sequence\"><g class=\"background\"><path d=\"M20,0 l160,0 l0,138.2 l0,25 l0,5 l-160,0 l0,-5 l0,-25 l0,-138.2z\"/></g><g class=\"axes\"><g class=\"x-axis\"><g transform=\"translate(100 200)\"><text class=\"lab\" text-anchor=\"middle\" transform=\"translate(0 -11)\">Genome position</text></g><line x1=\"20\" x2=\"180\" y1=\"163.2\" y2=\"163.2\"/><g class=\"ticks\"><g class=\"tick\" transform=\"translate(20 163.2)\"><line x1=\"0\" x2=\"0\" y1=\"0\" y2=\"5\"/><g transform=\"translate(0 6)\"><text class=\"lab\">0</text></g></g><g class=\"tick\" transform=\"translate(180 163.2)\"><line x1=\"0\" x2=\"0\" y1=\"0\" y2=\"5\"/><g transform=\"translate(0 6)\"><text class=\"lab\">10000</text></g></g></g></g></g><g class=\"plotbox trees\"><g class=\"tree t0\" transform=\"translate(20 0)\"><g class=\"plotbox\"><g class=\"c2 node n18 p0 root\" transform=\"translate(112.812 26.8)\"><g class=\"a18 i9 leaf node n9 p0 sample\" transform=\"translate(21.1875 94.6)\"><path class=\"edge\" d=\"M 0 0 V -94.6 H -21.1875\"/><rect class=\"sym\" height=\"6\" width=\"6\" x=\"-3\" y=\"-3\"/><text class=\"lab\" transform=\"translate(0 11)\">9</text></g><g class=\"a18 c2 node n17 p0\" transform=\"translate(-21.1875 6.04508)\"><g class=\"a17 c2 node n13 p0\" transform=\"translate(21.375 28.2725)\"><g class=\"a13 i7 leaf node n7 p0 sample\" transform=\"translate(9 60.2824)\"><path class=\"edge\" d=\"M 0 0 V -60.2824 H -9\"/><rect class=\"sym\" height=\"6\" width=\"6\" x=\"-3\" y=\"-3\"/><text class=\"lab\" transform=\"translate(0 11)\">7</text></g><g class=\"a13 c2 node n11 p0\" transform=\"translate(-9 16.4699)\"><g class=\"a11 i2 leaf node n2 p0 sample\" transform=\"translate(-6 43.8125)\"><path class=\"edge\" d=\"M 0 0 V -43.8125 H 6\"/><rect class=\"sym\" height=\"6\" width=\"6\" x=\"-3\" y=\"-3\"/><text class=\"lab\" transform=\"translate(0 11)\">2</text></g><g class=\"a11 i3 leaf node n3 p0 sample\" transform=\"translate(6 43.8125)\"><path class=\"edge\" d=\"M 0 0 V -43.8125 H -6\"/><rect class=\"sym\" height=\"6\" width=\"6\" x=\"-3\" y=\"-3\"/><text class=\"lab\" transform=\"translate(0 11)\">3</text></g><path class=\"edge\" d=\"M 0 0 V -16.4699 H 9\"/><circle class=\"sym\" cx=\"0\" cy=\"0\" r=\"3\"/><text class=\"lab lft\" transform=\"translate(-3 -7.0)\">11</text></g><path class=\"edge\" d=\"M 0 0 V -28.2725 H -21.375\"/><circle class=\"sym\" cx=\"0\" cy=\"0\" r=\"3\"/><text class=\"lab rgt\" transform=\"translate(3 -7.0)\">13</text></g><g class=\"a17 c2 node n16 p0\" transform=\"translate(-21.375 2.60589)\"><g class=\"a16 i8 leaf node n8 p0 sample\" transform=\"translate(15.75 85.949)\"><path class=\"edge\" d=\"M 0 0 V -85.949 H -15.75\"/><rect class=\"sym\" height=\"6\" width=\"6\" x=\"-3\" y=\"-3\"/><text class=\"lab\" transform=\"translate(0 11)\">8</text></g><g class=\"a16 c2 node n15 p0\" transform=\"translate(-15.75 19.1345)\"><g class=\"a15 c2 node n12 p0\" transform=\"translate(13.5 10.2645)\"><g class=\"a12 i1 leaf node n1 p0 sample\" transform=\"translate(-6 56.55)\"><path class=\"edge\" d=\"M 0 0 V -56.55 H 6\"/><rect class=\"sym\" height=\"6\" width=\"6\" x=\"-3\" y=\"-3\"/><text class=\"lab\" transform=\"translate(0 11)\">1</text></g><g class=\"a12 i6 leaf node n6 p0 sample\" transform=\"translate(6 56.55)\"><path class=\"edge\" d=\"M 0 0 V -56.55 H -6\"/><rect class=\"sym\" height=\"6\" width=\"6\" x=\"-3\" y=\"-3\"/><text class=\"lab\" transform=\"translate(0 11)\">6</text></g><path class=\"edge\" d=\"M 0 0 V -10.2645 H -13.5\"/><circle class=\"sym\" cx=\"0\" cy=\"0\" r=\"3\"/><text class=\"lab rgt\" transform=\"translate(3 -7.0)\">12</text></g><g class=\"a15 c2 node n14 p0\" transform=\"translate(-13.5 2.07579)\"><g class=\"a14 i5 leaf node n5 p0 sample\" transform=\"translate(9 64.7387)\"><path class=\"edge\" d=\"M 0 0 V -64.7387 H -9\"/><rect class=\"sym\" height=\"6\" width=\"6\" x=\"-3\" y=\"-3\"/><text class=\"lab\" transform=\"translate(0 11)\">5</text></g><g class=\"a14 c2 node n10 p0\" transform=\"translate(-9 25.8106)\"><g class=\"a10 i0 leaf node n0 p0 sample\" transform=\"translate(-6 38.9281)\"><path class=\"edge\" d=\"M 0 0 V -38.9281 H 6\"/><rect class=\"sym\" height=\"6\" width=\"6\" x=\"-3\" y=\"-3\"/><text class=\"lab\" transform=\"translate(0 11)\">0</text></g><g class=\"a10 i4 leaf node n4 p0 sample\" transform=\"translate(6 38.9281)\"><path class=\"edge\" d=\"M 0 0 V -38.9281 H -6\"/><rect class=\"sym\" height=\"6\" width=\"6\" x=\"-3\" y=\"-3\"/><text class=\"lab\" transform=\"translate(0 11)\">4</text></g><path class=\"edge\" d=\"M 0 0 V -25.8106 H 9\"/><circle class=\"sym\" cx=\"0\" cy=\"0\" r=\"3\"/><text class=\"lab lft\" transform=\"translate(-3 -7.0)\">10</text></g><path class=\"edge\" d=\"M 0 0 V -2.07579 H 13.5\"/><circle class=\"sym\" cx=\"0\" cy=\"0\" r=\"3\"/><text class=\"lab lft\" transform=\"translate(-3 -7.0)\">14</text></g><path class=\"edge\" d=\"M 0 0 V -19.1345 H 15.75\"/><circle class=\"sym\" cx=\"0\" cy=\"0\" r=\"3\"/><text class=\"lab lft\" transform=\"translate(-3 -7.0)\">15</text></g><path class=\"edge\" d=\"M 0 0 V -2.60589 H 21.375\"/><circle class=\"sym\" cx=\"0\" cy=\"0\" r=\"3\"/><text class=\"lab lft\" transform=\"translate(-3 -7.0)\">16</text></g><path class=\"edge\" d=\"M 0 0 V -6.04508 H 21.1875\"/><circle class=\"sym\" cx=\"0\" cy=\"0\" r=\"3\"/><text class=\"lab lft\" transform=\"translate(-3 -7.0)\">17</text></g><circle class=\"sym\" cx=\"0\" cy=\"0\" r=\"3\"/><text class=\"lab\" transform=\"translate(0 -11)\">18</text></g></g></g></g></g></svg>"
      ],
      "text/plain": [
       "<IPython.core.display.SVG object>"
      ]
     },
     "execution_count": 37,
     "metadata": {},
     "output_type": "execute_result"
    }
   ],
   "source": [
    "import msprime\n",
    "from IPython.display import SVG, display\n",
    "demography = msprime.Demography()\n",
    "demography.add_population(name=\"A\", initial_size=10000, growth_rate=0.05)\n",
    "\n",
    "    # Simulate an ancestral history for 3 diploid samples under the coalescent\n",
    "    # with recombination on a 5kb region with human-like parameters.\n",
    "ts_observed = msprime.sim_ancestry(\n",
    "    samples=10,\n",
    "    ploidy=1,\n",
    "    recombination_rate=0,\n",
    "    sequence_length=10_000,\n",
    "    demography=demography)\n",
    "# Visualise the simulated ancestral history.\n",
    "SVG(ts.draw_svg())"
   ]
  },
  {
   "cell_type": "code",
   "execution_count": 8,
   "id": "55d7798c",
   "metadata": {},
   "outputs": [
    {
     "name": "stdout",
     "output_type": "stream",
     "text": [
      "[0.48656599]\n"
     ]
    }
   ],
   "source": [
    "import matplotlib.pyplot as plt\n",
    "import numpy as np\n",
    "\n",
    "mu, sigma = 0.5, 0.1\n",
    "s = np.random.normal(mu, sigma, 1)\n",
    "print(s)"
   ]
  },
  {
   "cell_type": "code",
   "execution_count": 38,
   "id": "f60155fb",
   "metadata": {},
   "outputs": [
    {
     "name": "stdout",
     "output_type": "stream",
     "text": [
      "170\n"
     ]
    }
   ],
   "source": [
    "#ts = msprime.sim_ancestry(5, ploidy=1, sequence_length=1000)\n",
    "mts_observed = msprime.sim_mutations(ts_observed, rate=1e-5)\n",
    "\n",
    "\n",
    "print(mts.num_mutations)\n",
    "#SVG(mts.draw_svg())\n",
    "\n",
    "\n"
   ]
  },
  {
   "cell_type": "code",
   "execution_count": null,
   "id": "46791171",
   "metadata": {},
   "outputs": [],
   "source": []
  },
  {
   "cell_type": "code",
   "execution_count": 16,
   "id": "e456185b",
   "metadata": {},
   "outputs": [
    {
     "name": "stdout",
     "output_type": "stream",
     "text": [
      "279.0\t('T', 'C')\t[0 0 0 0 0 0 0 0 1 0]\n",
      "350.0\t('G', 'A')\t[0 0 0 0 0 1 0 0 0 0]\n",
      "362.0\t('C', 'G')\t[0 0 0 0 0 0 0 0 0 1]\n",
      "591.0\t('G', 'T')\t[0 0 0 0 0 0 1 0 0 0]\n",
      "610.0\t('A', 'C')\t[1 0 0 0 0 0 0 0 0 0]\n",
      "687.0\t('G', 'C')\t[0 1 1 1 1 0 0 0 1 0]\n",
      "709.0\t('G', 'T')\t[0 0 0 0 0 1 0 0 0 0]\n",
      "1047.0\t('C', 'T')\t[0 0 0 0 0 0 1 0 0 0]\n",
      "1053.0\t('C', 'A')\t[0 0 0 0 0 1 0 0 0 0]\n",
      "1230.0\t('T', 'G')\t[1 0 0 0 0 0 0 0 0 0]\n",
      "1254.0\t('C', 'A')\t[0 0 1 0 0 0 0 0 0 0]\n",
      "1308.0\t('C', 'G')\t[0 0 0 1 0 0 0 0 0 0]\n",
      "1353.0\t('G', 'T')\t[1 0 0 0 0 0 1 1 0 0]\n",
      "1468.0\t('G', 'A')\t[0 0 0 0 0 1 0 0 0 0]\n",
      "1615.0\t('G', 'C')\t[1 0 0 0 0 0 1 1 0 0]\n",
      "1695.0\t('A', 'G')\t[0 0 0 0 0 0 0 1 0 0]\n",
      "1920.0\t('T', 'G')\t[0 1 0 0 1 0 0 0 0 0]\n",
      "1925.0\t('T', 'G')\t[0 0 0 0 0 0 0 0 0 1]\n",
      "2060.0\t('T', 'C')\t[0 1 0 0 0 0 0 0 0 0]\n",
      "2079.0\t('A', 'G')\t[0 0 1 1 0 0 0 0 0 0]\n",
      "2244.0\t('T', 'A')\t[0 1 0 0 1 0 0 0 0 0]\n",
      "2602.0\t('G', 'C')\t[0 0 0 0 0 0 1 0 0 0]\n",
      "2696.0\t('G', 'T')\t[0 0 0 0 0 0 1 0 0 0]\n",
      "2806.0\t('C', 'T')\t[0 0 0 0 0 0 1 0 0 0]\n",
      "2837.0\t('A', 'G')\t[0 1 0 0 0 0 0 0 0 0]\n",
      "2855.0\t('T', 'G')\t[0 0 0 0 0 0 1 0 0 0]\n",
      "2895.0\t('A', 'T')\t[0 1 0 0 0 0 0 0 0 0]\n",
      "3055.0\t('T', 'A')\t[0 0 0 1 0 0 0 0 0 0]\n",
      "3066.0\t('A', 'C')\t[0 0 0 0 0 0 0 0 1 0]\n",
      "3080.0\t('A', 'G')\t[0 0 0 0 0 1 0 0 0 0]\n",
      "3156.0\t('T', 'C')\t[0 0 0 0 0 0 0 0 0 1]\n",
      "3237.0\t('A', 'G')\t[1 0 0 0 0 0 0 0 0 0]\n",
      "3436.0\t('G', 'C')\t[1 0 0 0 0 0 0 0 0 0]\n",
      "3577.0\t('A', 'T')\t[0 0 0 0 0 0 0 0 0 1]\n",
      "3578.0\t('A', 'T')\t[0 0 0 0 1 0 0 0 0 0]\n",
      "3719.0\t('G', 'A')\t[0 0 0 0 0 0 0 0 0 1]\n",
      "3884.0\t('C', 'A')\t[0 1 1 1 1 0 0 0 1 0]\n",
      "3909.0\t('G', 'A')\t[0 0 0 0 0 1 0 0 0 0]\n",
      "3936.0\t('G', 'A')\t[0 0 0 1 0 0 0 0 0 0]\n",
      "4202.0\t('G', 'A')\t[0 0 0 0 0 1 0 0 0 0]\n",
      "4214.0\t('C', 'T')\t[0 0 0 0 0 0 1 0 0 0]\n",
      "4295.0\t('A', 'T')\t[0 0 0 0 0 0 0 0 0 1]\n",
      "4970.0\t('T', 'C')\t[0 1 1 1 1 0 0 0 1 0]\n",
      "5041.0\t('T', 'C')\t[0 0 0 0 1 0 0 0 0 0]\n",
      "5158.0\t('G', 'A')\t[0 0 0 0 0 1 0 0 0 0]\n",
      "5191.0\t('A', 'C')\t[0 0 0 1 0 0 0 0 0 0]\n",
      "5423.0\t('T', 'G')\t[0 0 0 0 0 0 0 0 1 0]\n",
      "5425.0\t('C', 'T')\t[0 0 0 0 0 0 0 0 1 0]\n",
      "5455.0\t('C', 'G')\t[0 1 1 1 1 0 0 0 1 0]\n",
      "5579.0\t('C', 'T')\t[0 0 0 0 0 1 0 0 0 1]\n",
      "5597.0\t('G', 'A')\t[0 0 0 1 0 0 0 0 0 0]\n",
      "5603.0\t('G', 'A')\t[0 0 0 0 0 1 0 0 0 0]\n",
      "5763.0\t('G', 'A')\t[0 0 0 0 0 0 0 0 1 0]\n",
      "5955.0\t('A', 'C')\t[0 0 0 0 0 0 0 1 0 0]\n",
      "6082.0\t('T', 'C')\t[0 0 0 0 0 0 0 0 0 1]\n",
      "6087.0\t('G', 'C')\t[0 0 0 0 0 0 0 1 0 0]\n",
      "6183.0\t('C', 'A')\t[0 0 0 0 0 0 0 0 0 1]\n",
      "6188.0\t('G', 'T')\t[0 0 0 0 0 1 0 0 0 0]\n",
      "6213.0\t('T', 'C')\t[0 0 1 0 0 0 0 0 0 0]\n",
      "6226.0\t('T', 'C')\t[0 0 0 0 1 0 0 0 0 0]\n",
      "6241.0\t('C', 'T')\t[1 0 0 0 0 0 1 0 0 0]\n",
      "6342.0\t('C', 'A')\t[0 0 0 0 0 0 0 0 0 1]\n",
      "6556.0\t('G', 'T')\t[0 1 0 0 0 0 0 0 0 0]\n",
      "6633.0\t('C', 'G')\t[1 0 0 0 0 0 1 1 0 0]\n",
      "6655.0\t('A', 'C')\t[0 0 0 0 0 0 0 0 0 1]\n",
      "6772.0\t('C', 'G')\t[0 0 0 0 0 0 0 0 1 0]\n",
      "6797.0\t('C', 'G')\t[0 0 1 0 0 0 0 0 0 0]\n",
      "6944.0\t('A', 'T')\t[0 1 0 0 0 0 0 0 0 0]\n",
      "7138.0\t('A', 'T')\t[0 0 1 0 0 0 0 0 0 0]\n",
      "7170.0\t('A', 'T')\t[0 0 0 1 0 0 0 0 0 0]\n",
      "7185.0\t('T', 'G')\t[0 0 0 0 0 1 0 0 0 0]\n",
      "7526.0\t('G', 'C')\t[1 0 0 0 0 0 0 0 0 0]\n",
      "7653.0\t('C', 'G')\t[0 0 0 0 0 0 0 0 0 1]\n",
      "7680.0\t('C', 'A')\t[0 1 0 0 0 0 0 0 0 0]\n",
      "7809.0\t('A', 'G')\t[0 0 0 0 0 0 1 0 0 0]\n",
      "8079.0\t('C', 'T')\t[0 0 0 0 0 0 1 0 0 0]\n",
      "8339.0\t('A', 'G')\t[0 0 1 0 0 0 0 0 0 0]\n",
      "8408.0\t('A', 'G')\t[0 0 0 0 0 1 0 0 0 0]\n",
      "8438.0\t('G', 'A')\t[0 0 0 0 0 1 0 0 0 0]\n",
      "8442.0\t('C', 'G')\t[0 0 0 0 0 0 0 1 0 0]\n",
      "8812.0\t('T', 'G')\t[0 0 0 0 0 0 1 0 0 0]\n",
      "8833.0\t('A', 'C')\t[0 0 0 0 0 0 0 0 0 1]\n",
      "9045.0\t('G', 'A')\t[0 0 1 0 0 0 0 0 0 0]\n",
      "9203.0\t('C', 'T')\t[0 1 1 1 1 0 0 0 1 0]\n",
      "9274.0\t('C', 'A')\t[0 1 0 0 0 0 0 0 0 0]\n",
      "9306.0\t('C', 'A')\t[0 0 0 0 0 0 1 0 0 0]\n",
      "9509.0\t('G', 'C')\t[0 0 0 0 0 0 0 0 0 1]\n",
      "9521.0\t('A', 'G')\t[0 0 0 0 0 0 0 1 0 0]\n",
      "9560.0\t('G', 'C')\t[1 0 0 0 0 0 0 0 0 0]\n",
      "9909.0\t('C', 'A')\t[0 0 0 0 0 0 0 0 0 1]\n"
     ]
    }
   ],
   "source": [
    "\n",
    "for var in mts.variants():\n",
    "    print(var.site.position, var.alleles, var.genotypes, sep=\"\\t\")"
   ]
  },
  {
   "cell_type": "code",
   "execution_count": 39,
   "id": "871de6e9",
   "metadata": {},
   "outputs": [
    {
     "data": {
      "text/plain": [
       "[-1.6612906362700288, 170, 39.82222222222224]"
      ]
     },
     "execution_count": 39,
     "metadata": {},
     "output_type": "execute_result"
    }
   ],
   "source": [
    "observed_statistics = [float(mts.Tajimas_D()), mts.num_mutations, mts.get_pairwise_diversity()]\n",
    "observed_statistics"
   ]
  },
  {
   "cell_type": "code",
   "execution_count": 53,
   "id": "12540cf3",
   "metadata": {},
   "outputs": [
    {
     "name": "stdout",
     "output_type": "stream",
     "text": [
      "0\n",
      "1000\n",
      "2000\n",
      "3000\n",
      "4000\n",
      "5000\n",
      "6000\n",
      "7000\n",
      "8000\n",
      "9000\n"
     ]
    }
   ],
   "source": [
    "import numpy as np\n",
    "num_replicates = 10000\n",
    "sim_stats = []\n",
    "mi = np.random.uniform(1e-8, 1e-4, num_replicates)\n",
    "alpha = np.random.uniform(0, 0.2, num_replicates)\n",
    "\n",
    "for i in range(num_replicates):\n",
    "    if i % 1000 == 0:\n",
    "        print(i)\n",
    "    demography = msprime.Demography()\n",
    "    demography.add_population(name=\"A\", initial_size=10000, growth_rate=alpha[i])\n",
    "    # Simulate an ancestral history for 3 diploid samples under the coalescent\n",
    "    # with recombination on a 5kb region with human-like parameters.\n",
    "    ts = msprime.sim_ancestry(\n",
    "        samples=10,\n",
    "        ploidy=1,\n",
    "        recombination_rate=0,\n",
    "        sequence_length=10_000,\n",
    "        demography=demography)\n",
    "    \n",
    "    mts = msprime.sim_mutations(ts, rate=mi[i])\n",
    "    snps = mts.num_mutations\n",
    "    D = float(mts.Tajimas_D())\n",
    "    pi = mts.get_pairwise_diversity()\n",
    "    sim_stats.append([D,snps,pi])"
   ]
  },
  {
   "cell_type": "code",
   "execution_count": 66,
   "id": "2b40880e",
   "metadata": {},
   "outputs": [
    {
     "data": {
      "text/plain": [
       "1755"
      ]
     },
     "execution_count": 66,
     "metadata": {},
     "output_type": "execute_result"
    }
   ],
   "source": [
    "observed_statistics_np = np.array(observed_statistics) \n",
    "allDifs = []\n",
    "goodIndexes = []\n",
    "for i in range(num_replicates):\n",
    "    d = np.linalg.norm(observed_statistics_np - np.array(sim_stats[i]))\n",
    "    allDifs.append(d)\n",
    "    if( d < 50):\n",
    "        goodIndexes.append(i)\n",
    "\n",
    "##for i in range(num_replicates):\n",
    "##    simstats = np.array(sim_stats[i])\n",
    "    \n",
    "allDifs\n",
    "len(goodIndexes)\n"
   ]
  },
  {
   "cell_type": "code",
   "execution_count": 69,
   "id": "f9b7ab52",
   "metadata": {},
   "outputs": [
    {
     "name": "stdout",
     "output_type": "stream",
     "text": [
      "3.96882771516347e-05 0.12969601871310718\n"
     ]
    }
   ],
   "source": [
    "miEstimate = 0 \n",
    "alphaEstimate = 0\n",
    "for i in range(len(goodIndexes)):\n",
    "    miEstimate = miEstimate + mi[goodIndexes[i]]\n",
    "    alphaEstimate = alphaEstimate + alpha[goodIndexes[i]]\n",
    "\n",
    "miEstimate = miEstimate / len(goodIndexes)\n",
    "alphaEstimate = alphaEstimate/len(goodIndexes)\n",
    "\n",
    "print(miEstimate, alphaEstimate)\n",
    "\n"
   ]
  },
  {
   "cell_type": "code",
   "execution_count": 75,
   "id": "15c85311",
   "metadata": {},
   "outputs": [
    {
     "data": {
      "text/plain": [
       "<matplotlib.collections.PathCollection at 0x7f4026db39a0>"
      ]
     },
     "execution_count": 75,
     "metadata": {},
     "output_type": "execute_result"
    },
    {
     "data": {
      "image/png": "[encoded data removed]",
      "text/plain": [
       "<Figure size 432x288 with 1 Axes>"
      ]
     },
     "metadata": {
      "needs_background": "light"
     },
     "output_type": "display_data"
    }
   ],
   "source": [
    "import matplotlib.pyplot as plt\n",
    "\n",
    "goodalpha = []\n",
    "goodmi = []\n",
    "for i in range(len(goodIndexes)):\n",
    "    goodalpha.append(alpha[goodIndexes[i]])\n",
    "    goodmi.append(mi[goodIndexes[i]])\n",
    "\n",
    "\n",
    "plt.scatter(mi,alpha)\n"
   ]
  },
  {
   "cell_type": "code",
   "execution_count": 74,
   "id": "abe4bf55",
   "metadata": {},
   "outputs": [
    {
     "data": {
      "text/plain": [
       "<matplotlib.collections.PathCollection at 0x7f4026e3bfa0>"
      ]
     },
     "execution_count": 74,
     "metadata": {},
     "output_type": "execute_result"
    },
    {
     "data": {
      "image/png": "[encoded data removed]",
      "text/plain": [
       "<Figure size 432x288 with 1 Axes>"
      ]
     },
     "metadata": {
      "needs_background": "light"
     },
     "output_type": "display_data"
    }
   ],
   "source": [
    "\n",
    "plt.scatter(goodmi, goodalpha)"
   ]
  }
 ],
 "metadata": {
  "kernelspec": {
   "display_name": "Python 3 (ipykernel)",
   "language": "python",
   "name": "python3"
  },
  "language_info": {
   "codemirror_mode": {
    "name": "ipython",
    "version": 3
   },
   "file_extension": ".py",
   "mimetype": "text/x-python",
   "name": "python",
   "nbconvert_exporter": "python",
   "pygments_lexer": "ipython3",
   "version": "3.9.12"
  }
 },
 "nbformat": 4,
 "nbformat_minor": 5
}
